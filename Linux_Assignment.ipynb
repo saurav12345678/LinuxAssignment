{
  "nbformat": 4,
  "nbformat_minor": 0,
  "metadata": {
    "colab": {
      "provenance": []
    },
    "kernelspec": {
      "name": "python3",
      "display_name": "Python 3"
    },
    "language_info": {
      "name": "python"
    }
  },
  "cells": [
    {
      "cell_type": "markdown",
      "source": [
        "1.What Is Linux?\n",
        "\n",
        "Ans- Linux is a family of open-source unix like operating system based on the linux kernal."
      ],
      "metadata": {
        "id": "ks1RF77lSdmd"
      }
    },
    {
      "cell_type": "markdown",
      "source": [
        "2.What is difference between Hard Link & Soft Link?\n",
        "\n",
        "Ans- A soft Link(also called a symbolic link or symlink) acts as a shortcut and pointer to a file or directory, While a hard link is a direct reference to the file data itself.Soft links can span different file systems and can be made to directories, unlike hard links which cannot cross file systems and can only be made to files."
      ],
      "metadata": {
        "id": "8pe1yNnSS8MP"
      }
    },
    {
      "cell_type": "markdown",
      "source": [
        "3.What is Kernal in Linux?\n",
        "Ans- In Linux, the kernel is the core of the operating system, acting as the interface between the hardware and all other software components"
      ],
      "metadata": {
        "id": "g6VdOl6tT0oy"
      }
    },
    {
      "cell_type": "markdown",
      "source": [
        "4.How can you create a user account?\n",
        "\n",
        "Ans-  Using adduser or Useradd command."
      ],
      "metadata": {
        "id": "vMf8MywRUFFU"
      }
    },
    {
      "cell_type": "markdown",
      "source": [
        "5. What is the grep Command used in Linux?\n",
        "\n",
        "Ans-The grep command is a filter that is used to search for lines matching a specified pattern and print the matching lines to standard output."
      ],
      "metadata": {
        "id": "1D0uFBQAUhf5"
      }
    },
    {
      "cell_type": "markdown",
      "source": [
        "6. Step 1- Create user p1-\n",
        "\n",
        "sudo useradd p1\n",
        "\n",
        "step 2- He should be the part of three groups G1,G2,G3\n",
        "\n",
        " usermod -aG group1,group2,group3 p1"
      ],
      "metadata": {
        "id": "2FlcJFZvVZFf"
      }
    },
    {
      "cell_type": "markdown",
      "source": [
        "7. Step 1- Create directory/tmp/bg as root user & create file inside it\n",
        "\n",
        "sudo mkdir -p /tmp/bg\n",
        "\n",
        "sudo touch /tmp/bg/file1.txt\n",
        "\n",
        "Step 2-   abhi” should be the owner of the directory. He should be able to create files and delete files inside the directry.\n",
        "\n",
        "Ans- sudo chown abhi:abhi /tmp/bg\n",
        "\n",
        "sudo chmod 700 /tmp/bg  - full permission to abhi"
      ],
      "metadata": {
        "id": "Ltp0FXozWe5L"
      }
    },
    {
      "cell_type": "markdown",
      "source": [
        "8. You suspect that a particular process is consuming excessive CPU resources on your Linux server. How\n",
        "would you identify and terminate this process?\n",
        "\n",
        "Ans-  Identify the high CPU Process-\n",
        "\n",
        "1.  top command\n",
        "\n",
        "than-  2. sudo kill PID"
      ],
      "metadata": {
        "id": "6-t870TeX7H1"
      }
    }
  ]
}